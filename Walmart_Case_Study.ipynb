{
  "nbformat": 4,
  "nbformat_minor": 0,
  "metadata": {
    "colab": {
      "provenance": [],
      "authorship_tag": "ABX9TyOMtsAt2XnrNJQ8r0SVYVBi",
      "include_colab_link": true
    },
    "kernelspec": {
      "name": "python3",
      "display_name": "Python 3"
    },
    "language_info": {
      "name": "python"
    }
  },
  "cells": [
    {
      "cell_type": "markdown",
      "metadata": {
        "id": "view-in-github",
        "colab_type": "text"
      },
      "source": [
        "<a href=\"https://colab.research.google.com/github/SDPreetham/Walmart_Case_Study/blob/main/Walmart_Case_Study.ipynb\" target=\"_parent\"><img src=\"https://colab.research.google.com/assets/colab-badge.svg\" alt=\"Open In Colab\"/></a>"
      ]
    },
    {
      "cell_type": "markdown",
      "source": [
        " # **Walmart Case Study**\n",
        "\\- By S D Preetham"
      ],
      "metadata": {
        "id": "pHDISv50jC1l"
      }
    },
    {
      "cell_type": "markdown",
      "source": [
        "### **Problem Statement:**\n",
        "\n",
        "The Management team at Walmart Inc. wants to analyze the customer purchase behavior (specifically, purchase amount) against the customer’s gender and the various other factors to help the business make better decisions. They want to understand if the spending habits differ between male and female customers: Do women spend more on Black Friday than men? (Assume 50 million customers are male and 50 million are female)."
      ],
      "metadata": {
        "id": "8VBkhS4Va7qR"
      }
    },
    {
      "cell_type": "markdown",
      "source": [
        "Dataset\n",
        "\n",
        "The company collected the transactional data of customers who purchased products from the Walmart Stores during Black Friday. The dataset has the following features:\n",
        "\n",
        "\n",
        "*   User_ID:\tUser ID\n",
        "*   Product_ID:\tProduct ID\n",
        "* Gender:\tSex of User\n",
        "* Age:\tAge in bins\n",
        "* Occupation:\tOccupation(Masked)\n",
        "* City_Category:\tCategory of the City (A,B,C)\n",
        "* Stay_In_Current_City_Years:\tNumber of years stay in current city\n",
        "* Marital_Status:\tMarital Status\n",
        "* Product_Category:\tProduct Category (Masked)\n",
        "* Purchase:\tPurchase Amount\n",
        "\n",
        "\n",
        "\n"
      ],
      "metadata": {
        "id": "ArYDttS3buyI"
      }
    },
    {
      "cell_type": "code",
      "source": [
        "import numpy as np\n",
        "import pandas as pd\n",
        "import matplotlib.pyplot as plt\n",
        "import seaborn as sns"
      ],
      "metadata": {
        "id": "dpK5xOlJjD7b"
      },
      "execution_count": 2,
      "outputs": []
    },
    {
      "cell_type": "code",
      "source": [
        "df = pd.read_csv('walmart.csv')\n",
        "df.head()"
      ],
      "metadata": {
        "colab": {
          "base_uri": "https://localhost:8080/",
          "height": 206
        },
        "id": "VLizDKb4j2vY",
        "outputId": "eec44cfc-655a-4d5d-f05f-43841ffb9695"
      },
      "execution_count": 3,
      "outputs": [
        {
          "output_type": "execute_result",
          "data": {
            "text/plain": [
              "   User_ID Product_ID Gender   Age  Occupation City_Category  \\\n",
              "0  1000001  P00069042      F  0-17          10             A   \n",
              "1  1000001  P00248942      F  0-17          10             A   \n",
              "2  1000001  P00087842      F  0-17          10             A   \n",
              "3  1000001  P00085442      F  0-17          10             A   \n",
              "4  1000002  P00285442      M   55+          16             C   \n",
              "\n",
              "  Stay_In_Current_City_Years  Marital_Status  Product_Category  Purchase  \n",
              "0                          2               0                 3      8370  \n",
              "1                          2               0                 1     15200  \n",
              "2                          2               0                12      1422  \n",
              "3                          2               0                12      1057  \n",
              "4                         4+               0                 8      7969  "
            ],
            "text/html": [
              "\n",
              "  <div id=\"df-93d86a71-7266-47e7-b6a8-1547c26fd7df\" class=\"colab-df-container\">\n",
              "    <div>\n",
              "<style scoped>\n",
              "    .dataframe tbody tr th:only-of-type {\n",
              "        vertical-align: middle;\n",
              "    }\n",
              "\n",
              "    .dataframe tbody tr th {\n",
              "        vertical-align: top;\n",
              "    }\n",
              "\n",
              "    .dataframe thead th {\n",
              "        text-align: right;\n",
              "    }\n",
              "</style>\n",
              "<table border=\"1\" class=\"dataframe\">\n",
              "  <thead>\n",
              "    <tr style=\"text-align: right;\">\n",
              "      <th></th>\n",
              "      <th>User_ID</th>\n",
              "      <th>Product_ID</th>\n",
              "      <th>Gender</th>\n",
              "      <th>Age</th>\n",
              "      <th>Occupation</th>\n",
              "      <th>City_Category</th>\n",
              "      <th>Stay_In_Current_City_Years</th>\n",
              "      <th>Marital_Status</th>\n",
              "      <th>Product_Category</th>\n",
              "      <th>Purchase</th>\n",
              "    </tr>\n",
              "  </thead>\n",
              "  <tbody>\n",
              "    <tr>\n",
              "      <th>0</th>\n",
              "      <td>1000001</td>\n",
              "      <td>P00069042</td>\n",
              "      <td>F</td>\n",
              "      <td>0-17</td>\n",
              "      <td>10</td>\n",
              "      <td>A</td>\n",
              "      <td>2</td>\n",
              "      <td>0</td>\n",
              "      <td>3</td>\n",
              "      <td>8370</td>\n",
              "    </tr>\n",
              "    <tr>\n",
              "      <th>1</th>\n",
              "      <td>1000001</td>\n",
              "      <td>P00248942</td>\n",
              "      <td>F</td>\n",
              "      <td>0-17</td>\n",
              "      <td>10</td>\n",
              "      <td>A</td>\n",
              "      <td>2</td>\n",
              "      <td>0</td>\n",
              "      <td>1</td>\n",
              "      <td>15200</td>\n",
              "    </tr>\n",
              "    <tr>\n",
              "      <th>2</th>\n",
              "      <td>1000001</td>\n",
              "      <td>P00087842</td>\n",
              "      <td>F</td>\n",
              "      <td>0-17</td>\n",
              "      <td>10</td>\n",
              "      <td>A</td>\n",
              "      <td>2</td>\n",
              "      <td>0</td>\n",
              "      <td>12</td>\n",
              "      <td>1422</td>\n",
              "    </tr>\n",
              "    <tr>\n",
              "      <th>3</th>\n",
              "      <td>1000001</td>\n",
              "      <td>P00085442</td>\n",
              "      <td>F</td>\n",
              "      <td>0-17</td>\n",
              "      <td>10</td>\n",
              "      <td>A</td>\n",
              "      <td>2</td>\n",
              "      <td>0</td>\n",
              "      <td>12</td>\n",
              "      <td>1057</td>\n",
              "    </tr>\n",
              "    <tr>\n",
              "      <th>4</th>\n",
              "      <td>1000002</td>\n",
              "      <td>P00285442</td>\n",
              "      <td>M</td>\n",
              "      <td>55+</td>\n",
              "      <td>16</td>\n",
              "      <td>C</td>\n",
              "      <td>4+</td>\n",
              "      <td>0</td>\n",
              "      <td>8</td>\n",
              "      <td>7969</td>\n",
              "    </tr>\n",
              "  </tbody>\n",
              "</table>\n",
              "</div>\n",
              "    <div class=\"colab-df-buttons\">\n",
              "\n",
              "  <div class=\"colab-df-container\">\n",
              "    <button class=\"colab-df-convert\" onclick=\"convertToInteractive('df-93d86a71-7266-47e7-b6a8-1547c26fd7df')\"\n",
              "            title=\"Convert this dataframe to an interactive table.\"\n",
              "            style=\"display:none;\">\n",
              "\n",
              "  <svg xmlns=\"http://www.w3.org/2000/svg\" height=\"24px\" viewBox=\"0 -960 960 960\">\n",
              "    <path d=\"M120-120v-720h720v720H120Zm60-500h600v-160H180v160Zm220 220h160v-160H400v160Zm0 220h160v-160H400v160ZM180-400h160v-160H180v160Zm440 0h160v-160H620v160ZM180-180h160v-160H180v160Zm440 0h160v-160H620v160Z\"/>\n",
              "  </svg>\n",
              "    </button>\n",
              "\n",
              "  <style>\n",
              "    .colab-df-container {\n",
              "      display:flex;\n",
              "      gap: 12px;\n",
              "    }\n",
              "\n",
              "    .colab-df-convert {\n",
              "      background-color: #E8F0FE;\n",
              "      border: none;\n",
              "      border-radius: 50%;\n",
              "      cursor: pointer;\n",
              "      display: none;\n",
              "      fill: #1967D2;\n",
              "      height: 32px;\n",
              "      padding: 0 0 0 0;\n",
              "      width: 32px;\n",
              "    }\n",
              "\n",
              "    .colab-df-convert:hover {\n",
              "      background-color: #E2EBFA;\n",
              "      box-shadow: 0px 1px 2px rgba(60, 64, 67, 0.3), 0px 1px 3px 1px rgba(60, 64, 67, 0.15);\n",
              "      fill: #174EA6;\n",
              "    }\n",
              "\n",
              "    .colab-df-buttons div {\n",
              "      margin-bottom: 4px;\n",
              "    }\n",
              "\n",
              "    [theme=dark] .colab-df-convert {\n",
              "      background-color: #3B4455;\n",
              "      fill: #D2E3FC;\n",
              "    }\n",
              "\n",
              "    [theme=dark] .colab-df-convert:hover {\n",
              "      background-color: #434B5C;\n",
              "      box-shadow: 0px 1px 3px 1px rgba(0, 0, 0, 0.15);\n",
              "      filter: drop-shadow(0px 1px 2px rgba(0, 0, 0, 0.3));\n",
              "      fill: #FFFFFF;\n",
              "    }\n",
              "  </style>\n",
              "\n",
              "    <script>\n",
              "      const buttonEl =\n",
              "        document.querySelector('#df-93d86a71-7266-47e7-b6a8-1547c26fd7df button.colab-df-convert');\n",
              "      buttonEl.style.display =\n",
              "        google.colab.kernel.accessAllowed ? 'block' : 'none';\n",
              "\n",
              "      async function convertToInteractive(key) {\n",
              "        const element = document.querySelector('#df-93d86a71-7266-47e7-b6a8-1547c26fd7df');\n",
              "        const dataTable =\n",
              "          await google.colab.kernel.invokeFunction('convertToInteractive',\n",
              "                                                    [key], {});\n",
              "        if (!dataTable) return;\n",
              "\n",
              "        const docLinkHtml = 'Like what you see? Visit the ' +\n",
              "          '<a target=\"_blank\" href=https://colab.research.google.com/notebooks/data_table.ipynb>data table notebook</a>'\n",
              "          + ' to learn more about interactive tables.';\n",
              "        element.innerHTML = '';\n",
              "        dataTable['output_type'] = 'display_data';\n",
              "        await google.colab.output.renderOutput(dataTable, element);\n",
              "        const docLink = document.createElement('div');\n",
              "        docLink.innerHTML = docLinkHtml;\n",
              "        element.appendChild(docLink);\n",
              "      }\n",
              "    </script>\n",
              "  </div>\n",
              "\n",
              "\n",
              "<div id=\"df-29d7c712-b0af-4aba-9abc-2539f685dc9c\">\n",
              "  <button class=\"colab-df-quickchart\" onclick=\"quickchart('df-29d7c712-b0af-4aba-9abc-2539f685dc9c')\"\n",
              "            title=\"Suggest charts\"\n",
              "            style=\"display:none;\">\n",
              "\n",
              "<svg xmlns=\"http://www.w3.org/2000/svg\" height=\"24px\"viewBox=\"0 0 24 24\"\n",
              "     width=\"24px\">\n",
              "    <g>\n",
              "        <path d=\"M19 3H5c-1.1 0-2 .9-2 2v14c0 1.1.9 2 2 2h14c1.1 0 2-.9 2-2V5c0-1.1-.9-2-2-2zM9 17H7v-7h2v7zm4 0h-2V7h2v10zm4 0h-2v-4h2v4z\"/>\n",
              "    </g>\n",
              "</svg>\n",
              "  </button>\n",
              "\n",
              "<style>\n",
              "  .colab-df-quickchart {\n",
              "      --bg-color: #E8F0FE;\n",
              "      --fill-color: #1967D2;\n",
              "      --hover-bg-color: #E2EBFA;\n",
              "      --hover-fill-color: #174EA6;\n",
              "      --disabled-fill-color: #AAA;\n",
              "      --disabled-bg-color: #DDD;\n",
              "  }\n",
              "\n",
              "  [theme=dark] .colab-df-quickchart {\n",
              "      --bg-color: #3B4455;\n",
              "      --fill-color: #D2E3FC;\n",
              "      --hover-bg-color: #434B5C;\n",
              "      --hover-fill-color: #FFFFFF;\n",
              "      --disabled-bg-color: #3B4455;\n",
              "      --disabled-fill-color: #666;\n",
              "  }\n",
              "\n",
              "  .colab-df-quickchart {\n",
              "    background-color: var(--bg-color);\n",
              "    border: none;\n",
              "    border-radius: 50%;\n",
              "    cursor: pointer;\n",
              "    display: none;\n",
              "    fill: var(--fill-color);\n",
              "    height: 32px;\n",
              "    padding: 0;\n",
              "    width: 32px;\n",
              "  }\n",
              "\n",
              "  .colab-df-quickchart:hover {\n",
              "    background-color: var(--hover-bg-color);\n",
              "    box-shadow: 0 1px 2px rgba(60, 64, 67, 0.3), 0 1px 3px 1px rgba(60, 64, 67, 0.15);\n",
              "    fill: var(--button-hover-fill-color);\n",
              "  }\n",
              "\n",
              "  .colab-df-quickchart-complete:disabled,\n",
              "  .colab-df-quickchart-complete:disabled:hover {\n",
              "    background-color: var(--disabled-bg-color);\n",
              "    fill: var(--disabled-fill-color);\n",
              "    box-shadow: none;\n",
              "  }\n",
              "\n",
              "  .colab-df-spinner {\n",
              "    border: 2px solid var(--fill-color);\n",
              "    border-color: transparent;\n",
              "    border-bottom-color: var(--fill-color);\n",
              "    animation:\n",
              "      spin 1s steps(1) infinite;\n",
              "  }\n",
              "\n",
              "  @keyframes spin {\n",
              "    0% {\n",
              "      border-color: transparent;\n",
              "      border-bottom-color: var(--fill-color);\n",
              "      border-left-color: var(--fill-color);\n",
              "    }\n",
              "    20% {\n",
              "      border-color: transparent;\n",
              "      border-left-color: var(--fill-color);\n",
              "      border-top-color: var(--fill-color);\n",
              "    }\n",
              "    30% {\n",
              "      border-color: transparent;\n",
              "      border-left-color: var(--fill-color);\n",
              "      border-top-color: var(--fill-color);\n",
              "      border-right-color: var(--fill-color);\n",
              "    }\n",
              "    40% {\n",
              "      border-color: transparent;\n",
              "      border-right-color: var(--fill-color);\n",
              "      border-top-color: var(--fill-color);\n",
              "    }\n",
              "    60% {\n",
              "      border-color: transparent;\n",
              "      border-right-color: var(--fill-color);\n",
              "    }\n",
              "    80% {\n",
              "      border-color: transparent;\n",
              "      border-right-color: var(--fill-color);\n",
              "      border-bottom-color: var(--fill-color);\n",
              "    }\n",
              "    90% {\n",
              "      border-color: transparent;\n",
              "      border-bottom-color: var(--fill-color);\n",
              "    }\n",
              "  }\n",
              "</style>\n",
              "\n",
              "  <script>\n",
              "    async function quickchart(key) {\n",
              "      const quickchartButtonEl =\n",
              "        document.querySelector('#' + key + ' button');\n",
              "      quickchartButtonEl.disabled = true;  // To prevent multiple clicks.\n",
              "      quickchartButtonEl.classList.add('colab-df-spinner');\n",
              "      try {\n",
              "        const charts = await google.colab.kernel.invokeFunction(\n",
              "            'suggestCharts', [key], {});\n",
              "      } catch (error) {\n",
              "        console.error('Error during call to suggestCharts:', error);\n",
              "      }\n",
              "      quickchartButtonEl.classList.remove('colab-df-spinner');\n",
              "      quickchartButtonEl.classList.add('colab-df-quickchart-complete');\n",
              "    }\n",
              "    (() => {\n",
              "      let quickchartButtonEl =\n",
              "        document.querySelector('#df-29d7c712-b0af-4aba-9abc-2539f685dc9c button');\n",
              "      quickchartButtonEl.style.display =\n",
              "        google.colab.kernel.accessAllowed ? 'block' : 'none';\n",
              "    })();\n",
              "  </script>\n",
              "</div>\n",
              "\n",
              "    </div>\n",
              "  </div>\n"
            ],
            "application/vnd.google.colaboratory.intrinsic+json": {
              "type": "dataframe",
              "variable_name": "df"
            }
          },
          "metadata": {},
          "execution_count": 3
        }
      ]
    },
    {
      "cell_type": "markdown",
      "source": [
        "### Non-Graphical Analysis: Analyzing basic metrics"
      ],
      "metadata": {
        "id": "hW_jST3Tj-XW"
      }
    },
    {
      "cell_type": "code",
      "source": [
        "df.shape"
      ],
      "metadata": {
        "colab": {
          "base_uri": "https://localhost:8080/"
        },
        "id": "Er9Ob4GVkP0F",
        "outputId": "b8bee42b-e6e1-4c4e-b53e-cd76bcbc8c0d"
      },
      "execution_count": 4,
      "outputs": [
        {
          "output_type": "execute_result",
          "data": {
            "text/plain": [
              "(550068, 10)"
            ]
          },
          "metadata": {},
          "execution_count": 4
        }
      ]
    },
    {
      "cell_type": "markdown",
      "source": [
        "There are a total of 550068 rows and 10 columns."
      ],
      "metadata": {
        "id": "dvwORe1ZkarA"
      }
    },
    {
      "cell_type": "code",
      "source": [
        "# Getting a statistical summary of features of the dataset.\n",
        "df.describe()"
      ],
      "metadata": {
        "colab": {
          "base_uri": "https://localhost:8080/",
          "height": 300
        },
        "id": "OXIpFLEJkho7",
        "outputId": "f13bfeb2-b247-41db-d7d6-035fdf32d3e0"
      },
      "execution_count": 5,
      "outputs": [
        {
          "output_type": "execute_result",
          "data": {
            "text/plain": [
              "            User_ID     Occupation  Marital_Status  Product_Category  \\\n",
              "count  5.500680e+05  550068.000000   550068.000000     550068.000000   \n",
              "mean   1.003029e+06       8.076707        0.409653          5.404270   \n",
              "std    1.727592e+03       6.522660        0.491770          3.936211   \n",
              "min    1.000001e+06       0.000000        0.000000          1.000000   \n",
              "25%    1.001516e+06       2.000000        0.000000          1.000000   \n",
              "50%    1.003077e+06       7.000000        0.000000          5.000000   \n",
              "75%    1.004478e+06      14.000000        1.000000          8.000000   \n",
              "max    1.006040e+06      20.000000        1.000000         20.000000   \n",
              "\n",
              "            Purchase  \n",
              "count  550068.000000  \n",
              "mean     9263.968713  \n",
              "std      5023.065394  \n",
              "min        12.000000  \n",
              "25%      5823.000000  \n",
              "50%      8047.000000  \n",
              "75%     12054.000000  \n",
              "max     23961.000000  "
            ],
            "text/html": [
              "\n",
              "  <div id=\"df-08b6de4e-92bf-4d9c-802f-3515407f4c5d\" class=\"colab-df-container\">\n",
              "    <div>\n",
              "<style scoped>\n",
              "    .dataframe tbody tr th:only-of-type {\n",
              "        vertical-align: middle;\n",
              "    }\n",
              "\n",
              "    .dataframe tbody tr th {\n",
              "        vertical-align: top;\n",
              "    }\n",
              "\n",
              "    .dataframe thead th {\n",
              "        text-align: right;\n",
              "    }\n",
              "</style>\n",
              "<table border=\"1\" class=\"dataframe\">\n",
              "  <thead>\n",
              "    <tr style=\"text-align: right;\">\n",
              "      <th></th>\n",
              "      <th>User_ID</th>\n",
              "      <th>Occupation</th>\n",
              "      <th>Marital_Status</th>\n",
              "      <th>Product_Category</th>\n",
              "      <th>Purchase</th>\n",
              "    </tr>\n",
              "  </thead>\n",
              "  <tbody>\n",
              "    <tr>\n",
              "      <th>count</th>\n",
              "      <td>5.500680e+05</td>\n",
              "      <td>550068.000000</td>\n",
              "      <td>550068.000000</td>\n",
              "      <td>550068.000000</td>\n",
              "      <td>550068.000000</td>\n",
              "    </tr>\n",
              "    <tr>\n",
              "      <th>mean</th>\n",
              "      <td>1.003029e+06</td>\n",
              "      <td>8.076707</td>\n",
              "      <td>0.409653</td>\n",
              "      <td>5.404270</td>\n",
              "      <td>9263.968713</td>\n",
              "    </tr>\n",
              "    <tr>\n",
              "      <th>std</th>\n",
              "      <td>1.727592e+03</td>\n",
              "      <td>6.522660</td>\n",
              "      <td>0.491770</td>\n",
              "      <td>3.936211</td>\n",
              "      <td>5023.065394</td>\n",
              "    </tr>\n",
              "    <tr>\n",
              "      <th>min</th>\n",
              "      <td>1.000001e+06</td>\n",
              "      <td>0.000000</td>\n",
              "      <td>0.000000</td>\n",
              "      <td>1.000000</td>\n",
              "      <td>12.000000</td>\n",
              "    </tr>\n",
              "    <tr>\n",
              "      <th>25%</th>\n",
              "      <td>1.001516e+06</td>\n",
              "      <td>2.000000</td>\n",
              "      <td>0.000000</td>\n",
              "      <td>1.000000</td>\n",
              "      <td>5823.000000</td>\n",
              "    </tr>\n",
              "    <tr>\n",
              "      <th>50%</th>\n",
              "      <td>1.003077e+06</td>\n",
              "      <td>7.000000</td>\n",
              "      <td>0.000000</td>\n",
              "      <td>5.000000</td>\n",
              "      <td>8047.000000</td>\n",
              "    </tr>\n",
              "    <tr>\n",
              "      <th>75%</th>\n",
              "      <td>1.004478e+06</td>\n",
              "      <td>14.000000</td>\n",
              "      <td>1.000000</td>\n",
              "      <td>8.000000</td>\n",
              "      <td>12054.000000</td>\n",
              "    </tr>\n",
              "    <tr>\n",
              "      <th>max</th>\n",
              "      <td>1.006040e+06</td>\n",
              "      <td>20.000000</td>\n",
              "      <td>1.000000</td>\n",
              "      <td>20.000000</td>\n",
              "      <td>23961.000000</td>\n",
              "    </tr>\n",
              "  </tbody>\n",
              "</table>\n",
              "</div>\n",
              "    <div class=\"colab-df-buttons\">\n",
              "\n",
              "  <div class=\"colab-df-container\">\n",
              "    <button class=\"colab-df-convert\" onclick=\"convertToInteractive('df-08b6de4e-92bf-4d9c-802f-3515407f4c5d')\"\n",
              "            title=\"Convert this dataframe to an interactive table.\"\n",
              "            style=\"display:none;\">\n",
              "\n",
              "  <svg xmlns=\"http://www.w3.org/2000/svg\" height=\"24px\" viewBox=\"0 -960 960 960\">\n",
              "    <path d=\"M120-120v-720h720v720H120Zm60-500h600v-160H180v160Zm220 220h160v-160H400v160Zm0 220h160v-160H400v160ZM180-400h160v-160H180v160Zm440 0h160v-160H620v160ZM180-180h160v-160H180v160Zm440 0h160v-160H620v160Z\"/>\n",
              "  </svg>\n",
              "    </button>\n",
              "\n",
              "  <style>\n",
              "    .colab-df-container {\n",
              "      display:flex;\n",
              "      gap: 12px;\n",
              "    }\n",
              "\n",
              "    .colab-df-convert {\n",
              "      background-color: #E8F0FE;\n",
              "      border: none;\n",
              "      border-radius: 50%;\n",
              "      cursor: pointer;\n",
              "      display: none;\n",
              "      fill: #1967D2;\n",
              "      height: 32px;\n",
              "      padding: 0 0 0 0;\n",
              "      width: 32px;\n",
              "    }\n",
              "\n",
              "    .colab-df-convert:hover {\n",
              "      background-color: #E2EBFA;\n",
              "      box-shadow: 0px 1px 2px rgba(60, 64, 67, 0.3), 0px 1px 3px 1px rgba(60, 64, 67, 0.15);\n",
              "      fill: #174EA6;\n",
              "    }\n",
              "\n",
              "    .colab-df-buttons div {\n",
              "      margin-bottom: 4px;\n",
              "    }\n",
              "\n",
              "    [theme=dark] .colab-df-convert {\n",
              "      background-color: #3B4455;\n",
              "      fill: #D2E3FC;\n",
              "    }\n",
              "\n",
              "    [theme=dark] .colab-df-convert:hover {\n",
              "      background-color: #434B5C;\n",
              "      box-shadow: 0px 1px 3px 1px rgba(0, 0, 0, 0.15);\n",
              "      filter: drop-shadow(0px 1px 2px rgba(0, 0, 0, 0.3));\n",
              "      fill: #FFFFFF;\n",
              "    }\n",
              "  </style>\n",
              "\n",
              "    <script>\n",
              "      const buttonEl =\n",
              "        document.querySelector('#df-08b6de4e-92bf-4d9c-802f-3515407f4c5d button.colab-df-convert');\n",
              "      buttonEl.style.display =\n",
              "        google.colab.kernel.accessAllowed ? 'block' : 'none';\n",
              "\n",
              "      async function convertToInteractive(key) {\n",
              "        const element = document.querySelector('#df-08b6de4e-92bf-4d9c-802f-3515407f4c5d');\n",
              "        const dataTable =\n",
              "          await google.colab.kernel.invokeFunction('convertToInteractive',\n",
              "                                                    [key], {});\n",
              "        if (!dataTable) return;\n",
              "\n",
              "        const docLinkHtml = 'Like what you see? Visit the ' +\n",
              "          '<a target=\"_blank\" href=https://colab.research.google.com/notebooks/data_table.ipynb>data table notebook</a>'\n",
              "          + ' to learn more about interactive tables.';\n",
              "        element.innerHTML = '';\n",
              "        dataTable['output_type'] = 'display_data';\n",
              "        await google.colab.output.renderOutput(dataTable, element);\n",
              "        const docLink = document.createElement('div');\n",
              "        docLink.innerHTML = docLinkHtml;\n",
              "        element.appendChild(docLink);\n",
              "      }\n",
              "    </script>\n",
              "  </div>\n",
              "\n",
              "\n",
              "<div id=\"df-daf403d2-4af5-40b3-8cfb-8e017b04ab69\">\n",
              "  <button class=\"colab-df-quickchart\" onclick=\"quickchart('df-daf403d2-4af5-40b3-8cfb-8e017b04ab69')\"\n",
              "            title=\"Suggest charts\"\n",
              "            style=\"display:none;\">\n",
              "\n",
              "<svg xmlns=\"http://www.w3.org/2000/svg\" height=\"24px\"viewBox=\"0 0 24 24\"\n",
              "     width=\"24px\">\n",
              "    <g>\n",
              "        <path d=\"M19 3H5c-1.1 0-2 .9-2 2v14c0 1.1.9 2 2 2h14c1.1 0 2-.9 2-2V5c0-1.1-.9-2-2-2zM9 17H7v-7h2v7zm4 0h-2V7h2v10zm4 0h-2v-4h2v4z\"/>\n",
              "    </g>\n",
              "</svg>\n",
              "  </button>\n",
              "\n",
              "<style>\n",
              "  .colab-df-quickchart {\n",
              "      --bg-color: #E8F0FE;\n",
              "      --fill-color: #1967D2;\n",
              "      --hover-bg-color: #E2EBFA;\n",
              "      --hover-fill-color: #174EA6;\n",
              "      --disabled-fill-color: #AAA;\n",
              "      --disabled-bg-color: #DDD;\n",
              "  }\n",
              "\n",
              "  [theme=dark] .colab-df-quickchart {\n",
              "      --bg-color: #3B4455;\n",
              "      --fill-color: #D2E3FC;\n",
              "      --hover-bg-color: #434B5C;\n",
              "      --hover-fill-color: #FFFFFF;\n",
              "      --disabled-bg-color: #3B4455;\n",
              "      --disabled-fill-color: #666;\n",
              "  }\n",
              "\n",
              "  .colab-df-quickchart {\n",
              "    background-color: var(--bg-color);\n",
              "    border: none;\n",
              "    border-radius: 50%;\n",
              "    cursor: pointer;\n",
              "    display: none;\n",
              "    fill: var(--fill-color);\n",
              "    height: 32px;\n",
              "    padding: 0;\n",
              "    width: 32px;\n",
              "  }\n",
              "\n",
              "  .colab-df-quickchart:hover {\n",
              "    background-color: var(--hover-bg-color);\n",
              "    box-shadow: 0 1px 2px rgba(60, 64, 67, 0.3), 0 1px 3px 1px rgba(60, 64, 67, 0.15);\n",
              "    fill: var(--button-hover-fill-color);\n",
              "  }\n",
              "\n",
              "  .colab-df-quickchart-complete:disabled,\n",
              "  .colab-df-quickchart-complete:disabled:hover {\n",
              "    background-color: var(--disabled-bg-color);\n",
              "    fill: var(--disabled-fill-color);\n",
              "    box-shadow: none;\n",
              "  }\n",
              "\n",
              "  .colab-df-spinner {\n",
              "    border: 2px solid var(--fill-color);\n",
              "    border-color: transparent;\n",
              "    border-bottom-color: var(--fill-color);\n",
              "    animation:\n",
              "      spin 1s steps(1) infinite;\n",
              "  }\n",
              "\n",
              "  @keyframes spin {\n",
              "    0% {\n",
              "      border-color: transparent;\n",
              "      border-bottom-color: var(--fill-color);\n",
              "      border-left-color: var(--fill-color);\n",
              "    }\n",
              "    20% {\n",
              "      border-color: transparent;\n",
              "      border-left-color: var(--fill-color);\n",
              "      border-top-color: var(--fill-color);\n",
              "    }\n",
              "    30% {\n",
              "      border-color: transparent;\n",
              "      border-left-color: var(--fill-color);\n",
              "      border-top-color: var(--fill-color);\n",
              "      border-right-color: var(--fill-color);\n",
              "    }\n",
              "    40% {\n",
              "      border-color: transparent;\n",
              "      border-right-color: var(--fill-color);\n",
              "      border-top-color: var(--fill-color);\n",
              "    }\n",
              "    60% {\n",
              "      border-color: transparent;\n",
              "      border-right-color: var(--fill-color);\n",
              "    }\n",
              "    80% {\n",
              "      border-color: transparent;\n",
              "      border-right-color: var(--fill-color);\n",
              "      border-bottom-color: var(--fill-color);\n",
              "    }\n",
              "    90% {\n",
              "      border-color: transparent;\n",
              "      border-bottom-color: var(--fill-color);\n",
              "    }\n",
              "  }\n",
              "</style>\n",
              "\n",
              "  <script>\n",
              "    async function quickchart(key) {\n",
              "      const quickchartButtonEl =\n",
              "        document.querySelector('#' + key + ' button');\n",
              "      quickchartButtonEl.disabled = true;  // To prevent multiple clicks.\n",
              "      quickchartButtonEl.classList.add('colab-df-spinner');\n",
              "      try {\n",
              "        const charts = await google.colab.kernel.invokeFunction(\n",
              "            'suggestCharts', [key], {});\n",
              "      } catch (error) {\n",
              "        console.error('Error during call to suggestCharts:', error);\n",
              "      }\n",
              "      quickchartButtonEl.classList.remove('colab-df-spinner');\n",
              "      quickchartButtonEl.classList.add('colab-df-quickchart-complete');\n",
              "    }\n",
              "    (() => {\n",
              "      let quickchartButtonEl =\n",
              "        document.querySelector('#df-daf403d2-4af5-40b3-8cfb-8e017b04ab69 button');\n",
              "      quickchartButtonEl.style.display =\n",
              "        google.colab.kernel.accessAllowed ? 'block' : 'none';\n",
              "    })();\n",
              "  </script>\n",
              "</div>\n",
              "\n",
              "    </div>\n",
              "  </div>\n"
            ],
            "application/vnd.google.colaboratory.intrinsic+json": {
              "type": "dataframe",
              "summary": "{\n  \"name\": \"df\",\n  \"rows\": 8,\n  \"fields\": [\n    {\n      \"column\": \"User_ID\",\n      \"properties\": {\n        \"dtype\": \"number\",\n        \"std\": 367117.89753373514,\n        \"min\": 1727.5915855306216,\n        \"max\": 1006040.0,\n        \"num_unique_values\": 8,\n        \"samples\": [\n          1003028.8424013031,\n          1003077.0,\n          550068.0\n        ],\n        \"semantic_type\": \"\",\n        \"description\": \"\"\n      }\n    },\n    {\n      \"column\": \"Occupation\",\n      \"properties\": {\n        \"dtype\": \"number\",\n        \"std\": 194475.49735336297,\n        \"min\": 0.0,\n        \"max\": 550068.0,\n        \"num_unique_values\": 8,\n        \"samples\": [\n          8.076706879876669,\n          7.0,\n          550068.0\n        ],\n        \"semantic_type\": \"\",\n        \"description\": \"\"\n      }\n    },\n    {\n      \"column\": \"Marital_Status\",\n      \"properties\": {\n        \"dtype\": \"number\",\n        \"std\": 194478.25991330712,\n        \"min\": 0.0,\n        \"max\": 550068.0,\n        \"num_unique_values\": 5,\n        \"samples\": [\n          0.40965298835780306,\n          1.0,\n          0.4917701263166973\n        ],\n        \"semantic_type\": \"\",\n        \"description\": \"\"\n      }\n    },\n    {\n      \"column\": \"Product_Category\",\n      \"properties\": {\n        \"dtype\": \"number\",\n        \"std\": 194476.16701795225,\n        \"min\": 1.0,\n        \"max\": 550068.0,\n        \"num_unique_values\": 7,\n        \"samples\": [\n          550068.0,\n          5.404270017525106,\n          8.0\n        ],\n        \"semantic_type\": \"\",\n        \"description\": \"\"\n      }\n    },\n    {\n      \"column\": \"Purchase\",\n      \"properties\": {\n        \"dtype\": \"number\",\n        \"std\": 191363.80903912007,\n        \"min\": 12.0,\n        \"max\": 550068.0,\n        \"num_unique_values\": 8,\n        \"samples\": [\n          9263.968712959126,\n          8047.0,\n          550068.0\n        ],\n        \"semantic_type\": \"\",\n        \"description\": \"\"\n      }\n    }\n  ]\n}"
            }
          },
          "metadata": {},
          "execution_count": 5
        }
      ]
    },
    {
      "cell_type": "code",
      "source": [
        "# Analyzing the data types of the features.\n",
        "df.dtypes"
      ],
      "metadata": {
        "colab": {
          "base_uri": "https://localhost:8080/",
          "height": 397
        },
        "id": "D207xMdEkvsX",
        "outputId": "dd621056-93b9-461a-9f04-362bb24fe4bc"
      },
      "execution_count": 6,
      "outputs": [
        {
          "output_type": "execute_result",
          "data": {
            "text/plain": [
              "User_ID                        int64\n",
              "Product_ID                    object\n",
              "Gender                        object\n",
              "Age                           object\n",
              "Occupation                     int64\n",
              "City_Category                 object\n",
              "Stay_In_Current_City_Years    object\n",
              "Marital_Status                 int64\n",
              "Product_Category               int64\n",
              "Purchase                       int64\n",
              "dtype: object"
            ],
            "text/html": [
              "<div>\n",
              "<style scoped>\n",
              "    .dataframe tbody tr th:only-of-type {\n",
              "        vertical-align: middle;\n",
              "    }\n",
              "\n",
              "    .dataframe tbody tr th {\n",
              "        vertical-align: top;\n",
              "    }\n",
              "\n",
              "    .dataframe thead th {\n",
              "        text-align: right;\n",
              "    }\n",
              "</style>\n",
              "<table border=\"1\" class=\"dataframe\">\n",
              "  <thead>\n",
              "    <tr style=\"text-align: right;\">\n",
              "      <th></th>\n",
              "      <th>0</th>\n",
              "    </tr>\n",
              "  </thead>\n",
              "  <tbody>\n",
              "    <tr>\n",
              "      <th>User_ID</th>\n",
              "      <td>int64</td>\n",
              "    </tr>\n",
              "    <tr>\n",
              "      <th>Product_ID</th>\n",
              "      <td>object</td>\n",
              "    </tr>\n",
              "    <tr>\n",
              "      <th>Gender</th>\n",
              "      <td>object</td>\n",
              "    </tr>\n",
              "    <tr>\n",
              "      <th>Age</th>\n",
              "      <td>object</td>\n",
              "    </tr>\n",
              "    <tr>\n",
              "      <th>Occupation</th>\n",
              "      <td>int64</td>\n",
              "    </tr>\n",
              "    <tr>\n",
              "      <th>City_Category</th>\n",
              "      <td>object</td>\n",
              "    </tr>\n",
              "    <tr>\n",
              "      <th>Stay_In_Current_City_Years</th>\n",
              "      <td>object</td>\n",
              "    </tr>\n",
              "    <tr>\n",
              "      <th>Marital_Status</th>\n",
              "      <td>int64</td>\n",
              "    </tr>\n",
              "    <tr>\n",
              "      <th>Product_Category</th>\n",
              "      <td>int64</td>\n",
              "    </tr>\n",
              "    <tr>\n",
              "      <th>Purchase</th>\n",
              "      <td>int64</td>\n",
              "    </tr>\n",
              "  </tbody>\n",
              "</table>\n",
              "</div><br><label><b>dtype:</b> object</label>"
            ]
          },
          "metadata": {},
          "execution_count": 6
        }
      ]
    },
    {
      "cell_type": "code",
      "source": [
        "# Checking the number of unique values for each feature\n",
        "df.nunique()"
      ],
      "metadata": {
        "colab": {
          "base_uri": "https://localhost:8080/",
          "height": 397
        },
        "id": "ccIXkRsezGtc",
        "outputId": "b60d9b54-82d0-41b6-e150-6f0328018e0c"
      },
      "execution_count": 7,
      "outputs": [
        {
          "output_type": "execute_result",
          "data": {
            "text/plain": [
              "User_ID                        5891\n",
              "Product_ID                     3631\n",
              "Gender                            2\n",
              "Age                               7\n",
              "Occupation                       21\n",
              "City_Category                     3\n",
              "Stay_In_Current_City_Years        5\n",
              "Marital_Status                    2\n",
              "Product_Category                 20\n",
              "Purchase                      18105\n",
              "dtype: int64"
            ],
            "text/html": [
              "<div>\n",
              "<style scoped>\n",
              "    .dataframe tbody tr th:only-of-type {\n",
              "        vertical-align: middle;\n",
              "    }\n",
              "\n",
              "    .dataframe tbody tr th {\n",
              "        vertical-align: top;\n",
              "    }\n",
              "\n",
              "    .dataframe thead th {\n",
              "        text-align: right;\n",
              "    }\n",
              "</style>\n",
              "<table border=\"1\" class=\"dataframe\">\n",
              "  <thead>\n",
              "    <tr style=\"text-align: right;\">\n",
              "      <th></th>\n",
              "      <th>0</th>\n",
              "    </tr>\n",
              "  </thead>\n",
              "  <tbody>\n",
              "    <tr>\n",
              "      <th>User_ID</th>\n",
              "      <td>5891</td>\n",
              "    </tr>\n",
              "    <tr>\n",
              "      <th>Product_ID</th>\n",
              "      <td>3631</td>\n",
              "    </tr>\n",
              "    <tr>\n",
              "      <th>Gender</th>\n",
              "      <td>2</td>\n",
              "    </tr>\n",
              "    <tr>\n",
              "      <th>Age</th>\n",
              "      <td>7</td>\n",
              "    </tr>\n",
              "    <tr>\n",
              "      <th>Occupation</th>\n",
              "      <td>21</td>\n",
              "    </tr>\n",
              "    <tr>\n",
              "      <th>City_Category</th>\n",
              "      <td>3</td>\n",
              "    </tr>\n",
              "    <tr>\n",
              "      <th>Stay_In_Current_City_Years</th>\n",
              "      <td>5</td>\n",
              "    </tr>\n",
              "    <tr>\n",
              "      <th>Marital_Status</th>\n",
              "      <td>2</td>\n",
              "    </tr>\n",
              "    <tr>\n",
              "      <th>Product_Category</th>\n",
              "      <td>20</td>\n",
              "    </tr>\n",
              "    <tr>\n",
              "      <th>Purchase</th>\n",
              "      <td>18105</td>\n",
              "    </tr>\n",
              "  </tbody>\n",
              "</table>\n",
              "</div><br><label><b>dtype:</b> int64</label>"
            ]
          },
          "metadata": {},
          "execution_count": 7
        }
      ]
    },
    {
      "cell_type": "code",
      "source": [
        "# Checking for missing data (null values).\n",
        "df.isna().sum()"
      ],
      "metadata": {
        "colab": {
          "base_uri": "https://localhost:8080/",
          "height": 397
        },
        "id": "3akWG4fllLWX",
        "outputId": "cad8d30e-ce9e-4a20-c4f1-188045ad8e03"
      },
      "execution_count": 8,
      "outputs": [
        {
          "output_type": "execute_result",
          "data": {
            "text/plain": [
              "User_ID                       0\n",
              "Product_ID                    0\n",
              "Gender                        0\n",
              "Age                           0\n",
              "Occupation                    0\n",
              "City_Category                 0\n",
              "Stay_In_Current_City_Years    0\n",
              "Marital_Status                0\n",
              "Product_Category              0\n",
              "Purchase                      0\n",
              "dtype: int64"
            ],
            "text/html": [
              "<div>\n",
              "<style scoped>\n",
              "    .dataframe tbody tr th:only-of-type {\n",
              "        vertical-align: middle;\n",
              "    }\n",
              "\n",
              "    .dataframe tbody tr th {\n",
              "        vertical-align: top;\n",
              "    }\n",
              "\n",
              "    .dataframe thead th {\n",
              "        text-align: right;\n",
              "    }\n",
              "</style>\n",
              "<table border=\"1\" class=\"dataframe\">\n",
              "  <thead>\n",
              "    <tr style=\"text-align: right;\">\n",
              "      <th></th>\n",
              "      <th>0</th>\n",
              "    </tr>\n",
              "  </thead>\n",
              "  <tbody>\n",
              "    <tr>\n",
              "      <th>User_ID</th>\n",
              "      <td>0</td>\n",
              "    </tr>\n",
              "    <tr>\n",
              "      <th>Product_ID</th>\n",
              "      <td>0</td>\n",
              "    </tr>\n",
              "    <tr>\n",
              "      <th>Gender</th>\n",
              "      <td>0</td>\n",
              "    </tr>\n",
              "    <tr>\n",
              "      <th>Age</th>\n",
              "      <td>0</td>\n",
              "    </tr>\n",
              "    <tr>\n",
              "      <th>Occupation</th>\n",
              "      <td>0</td>\n",
              "    </tr>\n",
              "    <tr>\n",
              "      <th>City_Category</th>\n",
              "      <td>0</td>\n",
              "    </tr>\n",
              "    <tr>\n",
              "      <th>Stay_In_Current_City_Years</th>\n",
              "      <td>0</td>\n",
              "    </tr>\n",
              "    <tr>\n",
              "      <th>Marital_Status</th>\n",
              "      <td>0</td>\n",
              "    </tr>\n",
              "    <tr>\n",
              "      <th>Product_Category</th>\n",
              "      <td>0</td>\n",
              "    </tr>\n",
              "    <tr>\n",
              "      <th>Purchase</th>\n",
              "      <td>0</td>\n",
              "    </tr>\n",
              "  </tbody>\n",
              "</table>\n",
              "</div><br><label><b>dtype:</b> int64</label>"
            ]
          },
          "metadata": {},
          "execution_count": 8
        }
      ]
    },
    {
      "cell_type": "markdown",
      "source": [
        "**Insight:**\n",
        " It is observed that there are no null values. Hence, there is no need for any imputation in the dataset."
      ],
      "metadata": {
        "id": "EpOPq0uMmIei"
      }
    },
    {
      "cell_type": "markdown",
      "source": [
        "### **Visual Analysis:**\n",
        " **Visualizing the numerical data using Box-plots:**"
      ],
      "metadata": {
        "id": "NcD5wp7_ecAp"
      }
    },
    {
      "cell_type": "code",
      "source": [
        "# Determining Numerical Features\n",
        "numeric_df = df.select_dtypes(include=[\"number\"])\n"
      ],
      "metadata": {
        "id": "khLhnTe2mcDq"
      },
      "execution_count": 9,
      "outputs": []
    },
    {
      "cell_type": "code",
      "source": [
        "numeric_df = numeric_df.drop(['User_ID'], axis = 1, errors = 'ignore')"
      ],
      "metadata": {
        "id": "2xi7_aERtZ5Y"
      },
      "execution_count": 10,
      "outputs": []
    },
    {
      "cell_type": "code",
      "source": [
        "# Ensure max 4 plots\n",
        "rows, cols = 2, 2\n",
        "plt.figure(figsize=(13, 10))\n",
        "\n",
        "# Get first 4 numeric columns to avoid ValueError\n",
        "numeric_columns = numeric_df.columns[:4]  # Select only the first 4 columns\n",
        "\n",
        "# Plot each numeric column in a 2×2 grid\n",
        "for i, col in enumerate(numeric_columns, 1):  # Take only first 4 columns\n",
        "    plt.subplot(2, 2, i)\n",
        "    sns.boxplot(x=numeric_df[col], color=\"gold\")\n",
        "    plt.title(f\"Boxplot for {col}\")\n",
        "\n",
        "plt.tight_layout()  # To adjust layout and prevent overlap\n",
        "plt.show()"
      ],
      "metadata": {
        "colab": {
          "base_uri": "https://localhost:8080/",
          "height": 872
        },
        "id": "at6kEPjPwLIE",
        "outputId": "4819eb61-596d-4865-8933-64f4059439fc"
      },
      "execution_count": 11,
      "outputs": [
        {
          "output_type": "display_data",
          "data": {
            "text/plain": [
              "<Figure size 1300x1000 with 4 Axes>"
            ],
            "image/png": "[encoded data removed]"
          },
          "metadata": {}
        }
      ]
    },
    {
      "cell_type": "markdown",
      "source": [
        "**Insight:**\n",
        "\n",
        "\n",
        "*  It is observed that there are significant number of outliers in purchases.\n",
        "\n",
        "\n"
      ],
      "metadata": {
        "id": "QsH0ZSY6xASA"
      }
    },
    {
      "cell_type": "code",
      "source": [
        "# Fetching the count of male and female customers\n",
        "gender_counts = df['Gender'].value_counts()\n",
        "gender_counts"
      ],
      "metadata": {
        "colab": {
          "base_uri": "https://localhost:8080/",
          "height": 178
        },
        "id": "EPaGUYC4sYI4",
        "outputId": "dd44eb87-e881-43a8-ac6d-3dd4bf4e8ea3"
      },
      "execution_count": 12,
      "outputs": [
        {
          "output_type": "execute_result",
          "data": {
            "text/plain": [
              "Gender\n",
              "M    414259\n",
              "F    135809\n",
              "Name: count, dtype: int64"
            ],
            "text/html": [
              "<div>\n",
              "<style scoped>\n",
              "    .dataframe tbody tr th:only-of-type {\n",
              "        vertical-align: middle;\n",
              "    }\n",
              "\n",
              "    .dataframe tbody tr th {\n",
              "        vertical-align: top;\n",
              "    }\n",
              "\n",
              "    .dataframe thead th {\n",
              "        text-align: right;\n",
              "    }\n",
              "</style>\n",
              "<table border=\"1\" class=\"dataframe\">\n",
              "  <thead>\n",
              "    <tr style=\"text-align: right;\">\n",
              "      <th></th>\n",
              "      <th>count</th>\n",
              "    </tr>\n",
              "    <tr>\n",
              "      <th>Gender</th>\n",
              "      <th></th>\n",
              "    </tr>\n",
              "  </thead>\n",
              "  <tbody>\n",
              "    <tr>\n",
              "      <th>M</th>\n",
              "      <td>414259</td>\n",
              "    </tr>\n",
              "    <tr>\n",
              "      <th>F</th>\n",
              "      <td>135809</td>\n",
              "    </tr>\n",
              "  </tbody>\n",
              "</table>\n",
              "</div><br><label><b>dtype:</b> int64</label>"
            ]
          },
          "metadata": {},
          "execution_count": 12
        }
      ]
    },
    {
      "cell_type": "code",
      "source": [
        "# Creating a pie chart for visualizing Male vs Female customers\n",
        "labels = gender_counts.index  # 'M' and 'F'\n",
        "colors = ['purple', 'green']\n",
        "plt.figure(figsize=(7, 7))\n",
        "plt.pie(gender_counts, labels=labels, autopct='%1.1f%%', colors=colors, startangle=90, explode=[0.05, 0.05], shadow=True)\n",
        "plt.title('Percentage of Male and Female Customers')\n",
        "plt.show()\n"
      ],
      "metadata": {
        "colab": {
          "base_uri": "https://localhost:8080/",
          "height": 598
        },
        "id": "3OX_nOLEzx2y",
        "outputId": "78a9308a-8eea-45ba-d7b5-1bdac8d3e972"
      },
      "execution_count": 13,
      "outputs": [
        {
          "output_type": "display_data",
          "data": {
            "text/plain": [
              "<Figure size 700x700 with 1 Axes>"
            ],
            "image/png": "[encoded data removed]"
          },
          "metadata": {}
        }
      ]
    },
    {
      "cell_type": "markdown",
      "source": [
        "**Insight:**\n",
        "\n",
        "*   It is observed that Walmart has a significantly higher number of male customers than female customers.\n",
        "\n",
        "\n"
      ],
      "metadata": {
        "id": "YU9FBX__exeD"
      }
    },
    {
      "cell_type": "code",
      "source": [
        "# Tracking the amount spent per transaction of all the 50 million female customers and 50 million male customers\n",
        "\n",
        "gender_spend = df.groupby('Gender')['Purchase'].sum()\n",
        "print('Total income from male vs female customers:',gender_spend)\n",
        "print('\\n')\n",
        "avg_gender_spend = df.groupby('Gender')['Purchase'].mean()\n",
        "print('Average expenses for male vs female customers:',avg_gender_spend)"
      ],
      "metadata": {
        "id": "Vke91JkRt398",
        "colab": {
          "base_uri": "https://localhost:8080/"
        },
        "outputId": "e70fc7dc-2cb7-4a4b-e191-3ddd1aba2f32"
      },
      "execution_count": 14,
      "outputs": [
        {
          "output_type": "stream",
          "name": "stdout",
          "text": [
            "Total income from male vs female customers: Gender\n",
            "F    1186232642\n",
            "M    3909580100\n",
            "Name: Purchase, dtype: int64\n",
            "\n",
            "\n",
            "Average expenses for male vs female customers: Gender\n",
            "F    8734.565765\n",
            "M    9437.526040\n",
            "Name: Purchase, dtype: float64\n"
          ]
        }
      ]
    },
    {
      "cell_type": "code",
      "source": [
        "# Creating a pie chart for visualizing the break-up of purchases between Male vs Female customers\n",
        "labels = gender_spend.index  # 'M' and 'F'\n",
        "colors = ['pink', 'lightyellow']\n",
        "plt.figure(figsize=(7, 7))\n",
        "plt.pie(gender_spend, labels=labels, autopct='%1.1f%%', colors=colors, startangle=90, explode=[0.05, 0.05], shadow=True)\n",
        "plt.title('Break-up for Purchases of Male and Female Customers')\n",
        "plt.show()"
      ],
      "metadata": {
        "colab": {
          "base_uri": "https://localhost:8080/",
          "height": 598
        },
        "id": "DBPtTEJztH17",
        "outputId": "80ee347c-58b7-41cc-ab8f-ee4b4b202935"
      },
      "execution_count": 26,
      "outputs": [
        {
          "output_type": "display_data",
          "data": {
            "text/plain": [
              "<Figure size 700x700 with 1 Axes>"
            ],
            "image/png": "[encoded data removed]"
          },
          "metadata": {}
        }
      ]
    },
    {
      "cell_type": "markdown",
      "source": [
        "**Insight:**\n",
        "\n",
        "*  It is observed that the average amount spent by male customers surpasses that of female customers.\n",
        "* Male customers contribute to 76.7% of the income received at Walmart during Black Friday, while the female customers contribute to 23.3%."
      ],
      "metadata": {
        "id": "DZ4rs1LFuH_T"
      }
    },
    {
      "cell_type": "markdown",
      "source": [
        "###  **Estimating the Confidence Interval**\n",
        "\n",
        "\n",
        "*   Using the sample average to find out an interval within which the population average (i.e. average spending for 50 million male and female customers each) will lie.\n",
        "*   Using various samples of customers, we calculate the interval within which the average spending of 50 million male customers and 50 million female customers may lie.\n",
        "\n",
        "\n",
        "\n",
        "\n"
      ],
      "metadata": {
        "id": "N4Lq5tMk08B0"
      }
    },
    {
      "cell_type": "markdown",
      "source": [
        "#### **For 95 % Confidence Level**"
      ],
      "metadata": {
        "id": "dioEUXnd1oqG"
      }
    },
    {
      "cell_type": "code",
      "source": [
        "from scipy.stats import norm\n",
        "\n",
        "female_purchases = df[df['Gender']=='F']['Purchase']\n",
        "male_purchases = df[df['Gender']=='M']['Purchase']\n",
        "\n",
        "female_avg = female_purchases.mean()\n",
        "male_avg = male_purchases.mean()\n",
        "overall_avg = df['Purchase'].mean()\n",
        "\n",
        "# Computing standard deviation and standard error\n",
        "female_std = female_purchases.std()\n",
        "male_std = male_purchases.std()\n",
        "overall_std = df['Purchase'].std()\n",
        "\n",
        "female_se = female_std / np.sqrt(len(female_purchases))\n",
        "male_se = male_std / np.sqrt(len(male_purchases))\n",
        "overall_se = overall_std / np.sqrt(len(df))\n",
        "\n",
        "# Define confidence level\n",
        "confidence_level = 0.95\n",
        "\n",
        "# Compute Z-critical value dynamically\n",
        "z_95 = np.round(norm.ppf((1 + confidence_level) / 2),2)\n",
        "z_95"
      ],
      "metadata": {
        "colab": {
          "base_uri": "https://localhost:8080/"
        },
        "id": "WXCMb30JyX3J",
        "outputId": "9dcbe86f-c9ca-4a36-d56a-3e457aba6aba"
      },
      "execution_count": 16,
      "outputs": [
        {
          "output_type": "execute_result",
          "data": {
            "text/plain": [
              "1.96"
            ]
          },
          "metadata": {},
          "execution_count": 16
        }
      ]
    },
    {
      "cell_type": "code",
      "source": [
        "ci_female = (female_avg - z_95 * female_se,female_avg + z_95 * female_se)\n",
        "ci_male = (male_avg - z_95* male_se, male_avg + z_95 * male_se)\n",
        "ci_overall = (overall_avg- z_95*overall_se, overall_avg+z_95*overall_se)\n",
        "\n",
        "print(\"95% Confidence Interval for average spending of Female Customers:\", np.round(ci_female,2))\n",
        "print(\"95% Confidence Interval for average spending of Male Customers:\", np.round(ci_male,2))\n",
        "print('95% Confidence Interval for average spending of all the customers', np.round(ci_overall,2))"
      ],
      "metadata": {
        "colab": {
          "base_uri": "https://localhost:8080/"
        },
        "id": "GtAWLcCw5Jp_",
        "outputId": "917b2781-6cde-4174-b05b-e843abe14c25"
      },
      "execution_count": 17,
      "outputs": [
        {
          "output_type": "stream",
          "name": "stdout",
          "text": [
            "95% Confidence Interval for average spending of Female Customers: [8709.21 8759.92]\n",
            "95% Confidence Interval for average spending of Male Customers: [9422.02 9453.03]\n",
            "95% Confidence Interval for average spending of all the customers [9250.69 9277.24]\n"
          ]
        }
      ]
    },
    {
      "cell_type": "markdown",
      "source": [
        "**Insights:**\n",
        "\n",
        "*   It is observed that for a population of 50 million male customers, the average purchase amount would be present in a range of 9422.02 - 9453.03.\n",
        "*   In case of 50 million female customers, the average purchase amount would be between 8701.21 - 8759.92.\n",
        "* Overall, for a population size of 100 million customers, the average spending for a customer would range in between 9250.69 - 9277.24.\n",
        "*  The confidence intervals for male and female customers do not overlap, indicating that different strategies have to be adopted to maximize the income.\n",
        "\n"
      ],
      "metadata": {
        "id": "5l2g0dXks3TL"
      }
    },
    {
      "cell_type": "markdown",
      "source": [
        "#### **For 99% Confidence Level**"
      ],
      "metadata": {
        "id": "4Dkr-6AR6dVd"
      }
    },
    {
      "cell_type": "code",
      "source": [
        "confidence_level = 0.99\n",
        "z_99 = np.round(norm.ppf((1 + confidence_level) / 2),2)\n",
        "z_99"
      ],
      "metadata": {
        "colab": {
          "base_uri": "https://localhost:8080/"
        },
        "id": "iIfUmuOI6b2y",
        "outputId": "715d1cd5-4a19-4159-8fe3-59c92786a3e8"
      },
      "execution_count": 18,
      "outputs": [
        {
          "output_type": "execute_result",
          "data": {
            "text/plain": [
              "2.58"
            ]
          },
          "metadata": {},
          "execution_count": 18
        }
      ]
    },
    {
      "cell_type": "code",
      "source": [
        "ci_female = (female_avg - z_99 * female_se,female_avg + z_99 * female_se)\n",
        "ci_male = (male_avg - z_99 * male_se, male_avg + z_99 * male_se)\n",
        "ci_overall = (overall_avg- z_99*overall_se, overall_avg+z_99*overall_se)\n",
        "print(\"99% Confidence Interval for average spending of Female Customers:\", np.round(ci_female,2))\n",
        "print(\"99% Confidence Interval for average spending of Male Customers:\", np.round(ci_male,2))\n",
        "print('99% Confidence Interval for average spending of all the customers', np.round(ci_overall,2))"
      ],
      "metadata": {
        "colab": {
          "base_uri": "https://localhost:8080/"
        },
        "id": "ZDqIAO1A6tc5",
        "outputId": "c512c728-a968-44e3-9bfc-9487f902d3a8"
      },
      "execution_count": 19,
      "outputs": [
        {
          "output_type": "stream",
          "name": "stdout",
          "text": [
            "99% Confidence Interval for average spending of Female Customers: [8701.19 8767.94]\n",
            "99% Confidence Interval for average spending of Male Customers: [9417.11 9457.94]\n",
            "99% Confidence Interval for average spending of all the customers [9246.5  9281.44]\n"
          ]
        }
      ]
    },
    {
      "cell_type": "markdown",
      "source": [
        "**Insight:**\n",
        "*   It is observed that for a population of 50 million male customers, the average purchase amount would be present in a range of 9417.11 - 9457.94.\n",
        "*   In case of female customers, the average purchase amount would be between 8701.19 - 8767.94.\n",
        "* Overall, for a population size of 100 million customers, the average amount spent would range in between 9246.5 - 9281.44\n",
        "*   It has been observed that the confidence intervals for purchases by male and female customers do not overlap, for both 95% and 99% confidence intervals.\n",
        "\n",
        "* As the confidence intervals for male and female customers do not overlap, different strategies have to be adopted to maximize the income.\n",
        "\n",
        "\n"
      ],
      "metadata": {
        "id": "YLREKfjIMPl7"
      }
    },
    {
      "cell_type": "code",
      "source": [
        "# Function to calculate sample means and confidence interval using Central Limit Theorem\n",
        "def clt_sampling(data, sample_size, n_iterations=1000, confidence_level=0.95):\n",
        "    sample_means = []\n",
        "    for _ in range(n_iterations):\n",
        "        sample = np.random.choice(data, size=sample_size, replace=True)\n",
        "        sample_mean = np.mean(sample)\n",
        "        sample_means.append(sample_mean)\n",
        "\n",
        "    # Calculate standard error of the sample means\n",
        "    std_error = np.std(sample_means) / np.sqrt(sample_size)\n",
        "\n",
        "    # Z-critical value for the confidence interval (using normal distribution)\n",
        "    z_critical = norm.ppf(1 - (1 - confidence_level) / 2)\n",
        "\n",
        "    # Confidence interval\n",
        "    ci_lower = np.mean(sample_means) - z_critical * std_error\n",
        "    ci_upper = np.mean(sample_means) + z_critical * std_error\n",
        "\n",
        "    return sample_means, ci_lower, ci_upper\n",
        "\n",
        "# List of sample sizes to observe\n",
        "sample_sizes = [100, 1000, 10000, 50000]\n",
        "\n",
        "# Plot distributions of means for different sample sizes\n",
        "plt.figure(figsize=(12, 10))\n",
        "\n",
        "for i, sample_size in enumerate(sample_sizes, 1):\n",
        "    female_means, female_ci_lower, female_ci_upper = clt_sampling(female_purchases, sample_size)\n",
        "    male_means, male_ci_lower, male_ci_upper = clt_sampling(male_purchases, sample_size)\n",
        "\n",
        "    plt.subplot(2, 2, i)\n",
        "    plt.hist(female_means, bins=30, alpha=0.5, label=f'Female (CI: {female_ci_lower:.2f}, {female_ci_upper:.2f})', color='skyblue')\n",
        "    plt.hist(male_means, bins=30, alpha=0.5, label=f'Male (CI: {male_ci_lower:.2f}, {male_ci_upper:.2f})', color='salmon')\n",
        "    plt.title(f\"Sample Size: {sample_size}\")\n",
        "    plt.legend()\n",
        "\n",
        "plt.tight_layout()\n",
        "plt.show()"
      ],
      "metadata": {
        "colab": {
          "base_uri": "https://localhost:8080/",
          "height": 945
        },
        "id": "-bTBjw7o9GQ5",
        "outputId": "fa7e4303-20f7-454f-ff7f-5b2d3e1e861a"
      },
      "execution_count": 20,
      "outputs": [
        {
          "output_type": "display_data",
          "data": {
            "text/plain": [
              "<Figure size 1200x1000 with 4 Axes>"
            ],
            "image/png": "[encoded data removed]"
          },
          "metadata": {}
        }
      ]
    },
    {
      "cell_type": "markdown",
      "source": [
        "**Insights:**\n",
        "\n",
        "*   It was observed that the range of the confidence interval increases as we increase the confidence level, thus ensuring that the population statistics are correctly predicted.\n",
        "*   It was also observed that increasing the sample size leads to better predictions, leading to minimization of variance.\n",
        "*  Hence, an optimum sample size with a high confidence level would result in accurate predictions pertaining to the population statistics.\n",
        "\n"
      ],
      "metadata": {
        "id": "AxggEnsa-Ebm"
      }
    },
    {
      "cell_type": "markdown",
      "source": [
        "**Analyzing the purchase trends for married and unmarried customers**"
      ],
      "metadata": {
        "id": "cg54U6-CMzS5"
      }
    },
    {
      "cell_type": "code",
      "source": [
        "avg_married = df[df['Marital_Status']==1]['Purchase'].mean()\n",
        "avg_unmarried = df[df['Marital_Status']==0]['Purchase'].mean()\n",
        "\n",
        "print('The average spending for a married person is:',np.round(avg_married,2))\n",
        "print('The average spending for an unmarried person is:',np.round(avg_unmarried,2))"
      ],
      "metadata": {
        "colab": {
          "base_uri": "https://localhost:8080/"
        },
        "id": "b3VzFOyU_htn",
        "outputId": "5b5e4c44-597a-4d96-bf3e-59434f39ea87"
      },
      "execution_count": 21,
      "outputs": [
        {
          "output_type": "stream",
          "name": "stdout",
          "text": [
            "The average spending for a married person is: 9261.17\n",
            "The average spending for an unmarried person is: 9265.91\n"
          ]
        }
      ]
    },
    {
      "cell_type": "markdown",
      "source": [
        "**Insight:**\n",
        "\n",
        "\n",
        "*   Based on the results, it can be stated that there is no significant difference in the average expense by a married person from that of an unmarried person.\n",
        "\n",
        "\n"
      ],
      "metadata": {
        "id": "cGNGspqquu3Z"
      }
    },
    {
      "cell_type": "code",
      "source": [
        "avg_male_married = df[(df['Marital_Status']==1) & (df['Gender']=='M')]['Purchase'].mean()\n",
        "avg_female_married = df[(df['Marital_Status']==1) & (df['Gender']=='F')]['Purchase'].mean()\n",
        "\n",
        "print('The average spending for a married male is:',np.round(avg_male_married,2))\n",
        "print('The average spending for a married female is:',np.round(avg_female_married,2))\n",
        "\n",
        "avg_male_unmarried = df[(df['Marital_Status']==0) & (df['Gender']=='M')]['Purchase'].mean()\n",
        "avg_female_unmarried = df[(df['Marital_Status']==0) & (df['Gender']=='F')]['Purchase'].mean()\n",
        "\n",
        "print('\\n')\n",
        "\n",
        "print('The average spending for an unmarried male is: ', np.round(avg_male_unmarried,2))\n",
        "print('The average spending for an unmarried female is: ', np.round(avg_female_unmarried,2))\n"
      ],
      "metadata": {
        "colab": {
          "base_uri": "https://localhost:8080/"
        },
        "id": "RbFvlYwOO2CG",
        "outputId": "555bc3bb-da0b-42e5-fb42-b5a0f8a6884c"
      },
      "execution_count": 22,
      "outputs": [
        {
          "output_type": "stream",
          "name": "stdout",
          "text": [
            "The average spending for a married male is: 9413.82\n",
            "The average spending for a married female is: 8810.25\n",
            "\n",
            "\n",
            "The average spending for an unmarried male is:  9453.76\n",
            "The average spending for an unmarried female is:  8679.85\n"
          ]
        }
      ]
    },
    {
      "cell_type": "markdown",
      "source": [
        "**Insight:**\n",
        "* As observed previously, men tend to spend more than women.This holds true for both married and unmarried classes."
      ],
      "metadata": {
        "id": "oVAYIUusvgT2"
      }
    },
    {
      "cell_type": "markdown",
      "source": [
        "###   **Analyzing the age group wise purchase trends:**"
      ],
      "metadata": {
        "id": "CBVu8d0QQvML"
      }
    },
    {
      "cell_type": "code",
      "source": [
        "age_gender_count = df.groupby(['Age', 'Gender'])\n",
        "plt.figure(figsize=(10, 6))\n",
        "sns.countplot(data=df, x='Age', hue='Gender', color='pink')\n",
        "plt.title('Count of Male and Female Customers per Age Group')\n",
        "plt.xlabel('Age')\n",
        "plt.ylabel('Count')\n",
        "plt.show()"
      ],
      "metadata": {
        "colab": {
          "base_uri": "https://localhost:8080/",
          "height": 651
        },
        "id": "7Ido8qhjQ4-1",
        "outputId": "bd55582a-7108-406c-c8ae-6e2c84e3fcf8"
      },
      "execution_count": 23,
      "outputs": [
        {
          "output_type": "stream",
          "name": "stderr",
          "text": [
            "<ipython-input-23-6c1bb06c0e36>:3: FutureWarning: \n",
            "\n",
            "Setting a gradient palette using color= is deprecated and will be removed in v0.14.0. Set `palette='dark:pink'` for the same effect.\n",
            "\n",
            "  sns.countplot(data=df, x='Age', hue='Gender', color='pink')\n"
          ]
        },
        {
          "output_type": "display_data",
          "data": {
            "text/plain": [
              "<Figure size 1000x600 with 1 Axes>"
            ],
            "image/png": "[encoded data removed]"
          },
          "metadata": {}
        }
      ]
    },
    {
      "cell_type": "markdown",
      "source": [
        "#### **Insight:**\n",
        "\n",
        "*   It is observed that for every age group, Walmart has a higher number of male customers compared to female customers.\n",
        "*   A significant number of customers are aged between 26-35, contributing to majority of the income received.\n",
        "\n"
      ],
      "metadata": {
        "id": "L83RMJn7WYFQ"
      }
    },
    {
      "cell_type": "markdown",
      "source": [
        "## **Final Insights and Recommendations:**\n",
        "\n",
        "\n",
        "\n",
        "*   It is statistically evident that Walmart has a large male customer base (75.3%) compared to female customers (24.7%)\n",
        "*   The average spending on Black Friday for a population size of 100 million customers has been found out to range between 9246.5 - 9281.44.\n",
        "*  For a population size of 50 million customers, male customers are found to have higher average spending (9417.11 - 9457.94) than female customers (8701.19 - 8767.94).\n",
        "* It has also been observed that a majority of the customers at Walmart age between 26-35 years.\n",
        "\n",
        "Based on these observations, the following action items can be implemented to maximize sales:\n",
        "\n",
        "1. **Tailored Marketing Campaigns**\n",
        "* **Targeted Ads for Men:** Since men tend to spend more, Walmart can run targeted advertising campaigns that focus on products and services that appeal specifically to male customers. These could include ads for high-ticket items like electronics, gadgets or apparel.\n",
        "\n",
        "* **Targeted Email Marketing**: Using data-driven insights, Walmart can send personalized offers and product recommendations to customers based on their previous purchase patterns, leading to new purchases.\n",
        "\n",
        "\n",
        "\n",
        "2. **Cross-Selling Strategies:**\n",
        "*  Walmart can use cross-selling strategies by suggesting complementary items when  customers add  products to their cart.\n",
        "* Example: When a customer purchases a laptop, Walmart could suggest related products such as laptop bags, headphones or other related accessories to encourage larger basket sizes.\n",
        "\n",
        "3. **Exclusive Loyalty Perks for Shoppers:**\n",
        "* Since men tend to spend more, Walmart can create loyalty programs specifically for male shoppers, offering rewards and benefits (such as exclusive early access to sales or discounts on high-value products) that appeal to their purchasing behavior.\n",
        "* Example: Offer loyalty points or exclusive discounts for male customers who spend a certain amount during major shopping events like Black Friday.\n",
        "\n",
        "4. **Seasonal Offers:**\n",
        "* Walmart could introduce seasonal offers to attract more customers.\n",
        "Example: Offer exclusive bundles for male shoppers with higher-value products during sales events.\n",
        "\n",
        "5. **Geographic Segmentation:**\n",
        "* Spending habits and patterns may vary by region. Walmart can use this insight to offer region-specific deals tailored to suit the market conditions of regions.\n",
        "* Example: Create region-specific promotions based on popular products  in that area.\n",
        "\n",
        "Additionally, the following action items can be implemented to increase sales among the female customers.\n",
        "\n",
        "1. **Tailor Marketing Campaigns to Women:**\n",
        "* **Highlight Women-Focused Products:** Walmart can run marketing campaigns that highlight products that appeal specifically to women, such as beauty and skincare products, fashion apparel, health and wellness.\n",
        "\n",
        "* **Leverage Influencers and Celebrities:** Partner with female influencers, celebrities, or bloggers who align with Walmart’s brand and appeal to women. Influencers in areas like fashion, beauty, and lifestyle can create trust and inspire more women to shop at Walmart.\n",
        "\n",
        "\n",
        "2. **Hosting Exclusive Events for Women:**\n",
        "* **Women’s Shopping Events:** Walmart could host exclusive shopping events such as women’s wellness days, fashion showcases, or beauty product launches to attract female customers.\n",
        "* Example: Organize a Beauty Day Event where women can attend beauty workshops or receive free skincare consultations while shopping for their favorite beauty products.\n",
        "\n",
        "\n",
        "3. **Convenience in shopping:**\n",
        "\n",
        "* **User-Friendly Website for Women:** Building a user-friendly interface that allows quick filtering for women’s categories such as clothing, accessories or home products.\n",
        "\n",
        "* **Women-Focused Store Layouts:** Walmart can create well-organized sections in the store that are designed specifically for women’s needs, from fashion to beauty and wellness.\n",
        "\n",
        "\n",
        "\n",
        "\n",
        "Adopting these data-driven strategies would support Walmart in increasing profitability and customer satisfaction during major sales events like Black Friday.\n",
        "\n",
        "\n"
      ],
      "metadata": {
        "id": "qvbLgFjz4dTC"
      }
    }
  ]
}